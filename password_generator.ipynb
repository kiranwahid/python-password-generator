{
  "nbformat": 4,
  "nbformat_minor": 0,
  "metadata": {
    "colab": {
      "provenance": [],
      "authorship_tag": "ABX9TyNXUNdGZAIugAL8WvWJdUPG",
      "include_colab_link": true
    },
    "kernelspec": {
      "name": "python3",
      "display_name": "Python 3"
    },
    "language_info": {
      "name": "python"
    }
  },
  "cells": [
    {
      "cell_type": "markdown",
      "metadata": {
        "id": "view-in-github",
        "colab_type": "text"
      },
      "source": [
        "<a href=\"https://colab.research.google.com/github/kiranwahid/python-password-generator/blob/main/password_generator.ipynb\" target=\"_parent\"><img src=\"https://colab.research.google.com/assets/colab-badge.svg\" alt=\"Open In Colab\"/></a>"
      ]
    },
    {
      "cell_type": "markdown",
      "source": [
        "# Project 07 Password Generator Python Project"
      ],
      "metadata": {
        "id": "HcfznTfn1sb4"
      }
    },
    {
      "cell_type": "code",
      "execution_count": null,
      "metadata": {
        "id": "V1Lw_7S-1bsc"
      },
      "outputs": [],
      "source": [
        "# 🚀 Password Generator Project\n",
        "# 🎲 This allows us to pick random things!\n",
        "import random\n",
        " # 🔡 This helps us with letters, numbers, and symbols!\n",
        "import string\n",
        "\n",
        "# 🎉 A friendly welcome message for the user\n",
        "print(\"\\n Welcome to the Password Generator! 🎉\")\n",
        "\n",
        "# 🅰️ Letters: Includes both uppercase and lowercase letters (A-Z and a-z)\n",
        "letters = string.ascii_letters\n",
        "\n",
        "# 🔢 Numbers: Digits from 0 to 9\n",
        "numbers = string.digits\n",
        "\n",
        "# 🔣 Symbols: Special characters like !, @, #, $, etc.\n",
        "symbols = string.punctuation\n",
        "\n",
        "# ➕ Combine letters, numbers, and symbols to form a pool of characters\n",
        "combined_characters = letters + numbers + symbols\n",
        "\n",
        "# 🧑‍💻 Ask the user how long they want their password to be\n",
        "user_input = int(input(\"How many characters would you like in your password 🔣? \\n\"))\n",
        "\n",
        "# 🎲 Generate a random password by picking characters from the combined pool\n",
        "# We'll pick 'user_input' number of characters\n",
        "password = ' '.join(random.choice(combined_characters) for i in range(user_input))\n",
        "\n",
        "# 📝 Show the generated password to the user\n",
        "print(f\"Your password is: {password}\")\n",
        "\n",
        "# 🎉 End of Password Generator Project\n",
        "print(\"Thank you for using the Password Generator!\")\n",
        "\n"
      ]
    }
  ]
}